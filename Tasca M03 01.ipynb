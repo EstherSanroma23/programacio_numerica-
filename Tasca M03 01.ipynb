{
 "cells": [
  {
   "cell_type": "markdown",
   "id": "1727653b",
   "metadata": {},
   "source": [
    "# Tasca M3 01\n",
    "## Exercici 1\n",
    "### Crea una funció que donat un Array d’una dimensió, et faci un resum estadístic bàsic de les dades. Si detecta que l’array té més d’una dimensió, ha de mostrar un missatge d’error."
   ]
  },
  {
   "cell_type": "code",
   "execution_count": 95,
   "id": "e31fd5f7",
   "metadata": {},
   "outputs": [
    {
     "name": "stdout",
     "output_type": "stream",
     "text": [
      "ERROR\n"
     ]
    }
   ],
   "source": [
    "import numpy as np\n",
    "import pandas as pd\n",
    "arr= np.array([[1, 2, 3], [4, 5, 6]])\n",
    "def funcio_dimensió(arr):\n",
    "    \n",
    "    if arr.ndim==1:\n",
    "        df= pd.DataFrame(arr)\n",
    "        print('number of dimensions :', arr.ndim, df.describe())\n",
    "    else:\n",
    "        print (\"ERROR\")\n",
    "        \n",
    "funcio_dimensió(arr)"
   ]
  },
  {
   "cell_type": "code",
   "execution_count": 119,
   "id": "7bf142a9",
   "metadata": {},
   "outputs": [
    {
     "name": "stdout",
     "output_type": "stream",
     "text": [
      "number of dimensions : 1                0\n",
      "count   8.000000\n",
      "mean    9.000000\n",
      "std     4.898979\n",
      "min     2.000000\n",
      "25%     5.500000\n",
      "50%     9.000000\n",
      "75%    12.500000\n",
      "max    16.000000\n"
     ]
    }
   ],
   "source": [
    "arr = np.array([2,4,6,8,10,12,14,16])\n",
    "def funcio_dades(arr):\n",
    "    if arr.ndim==1:\n",
    "        df=pd.DataFrame(arr) \n",
    "        print('number of dimensions :', arr.ndim, df.describe())\n",
    "    else:\n",
    "        print (\"ERROR\")\n",
    "        \n",
    "funcio_dades(arr)"
   ]
  },
  {
   "cell_type": "markdown",
   "id": "5b679b41",
   "metadata": {},
   "source": [
    "## Exercici 2\n",
    "### Crea una funció que et generi un quadrat NxN de nombres aleatoris entre el 0 i el 100."
   ]
  },
  {
   "cell_type": "code",
   "execution_count": 63,
   "id": "18d4fa14",
   "metadata": {},
   "outputs": [
    {
     "name": "stdout",
     "output_type": "stream",
     "text": [
      "[[34, 98, 9, 57, 74], [78, 98, 7, 46, 56], [72, 57, 67, 3, 20], [29, 28, 38, 2, 10], [6, 45, 50, 44, 80]]\n"
     ]
    }
   ],
   "source": [
    "from random import randint\n",
    "def plenar_matriu(n):\n",
    "    matriu =[]\n",
    "    for i in range(n):\n",
    "        fila=[]\n",
    "        for r in range(n):\n",
    "            fila.append(randint(0,100))\n",
    "        matriu.append(fila)\n",
    "    return matriu    \n",
    "resultat= plenar_matriu(5)  \n",
    "print(resultat)"
   ]
  },
  {
   "cell_type": "markdown",
   "id": "1de04909",
   "metadata": {},
   "source": [
    "## Exercici 3\n",
    "### Crea una funció que donada una taula de dues dimensions (NxM), et calculi els totals per fila i els totals per columna."
   ]
  },
  {
   "cell_type": "code",
   "execution_count": 84,
   "id": "cd6fcc6a",
   "metadata": {},
   "outputs": [
    {
     "name": "stdout",
     "output_type": "stream",
     "text": [
      "[[ 4  6  8 10 12]\n",
      " [ 3  5  7  9 11]\n",
      " [10 20 33 44 55]]\n",
      "Total columnes [17 31 48 63 78]\n",
      "Total files [ 40  35 162]\n"
     ]
    }
   ],
   "source": [
    "M1 =np.array([[4,6,8,10,12], [3,5,7,9,11], [10,20,33,44,55]])\n",
    "print(M1)\n",
    "def Sumes(M1):\n",
    "    df= pd.DataFrame(M1)\n",
    "print(\"Total columnes\",M1.sum(axis=0))\n",
    "print(\"Total files\",M1.sum(axis=1))\n",
    "Sumes(M1)"
   ]
  },
  {
   "cell_type": "code",
   "execution_count": 85,
   "id": "9d11352d",
   "metadata": {},
   "outputs": [
    {
     "name": "stdout",
     "output_type": "stream",
     "text": [
      "[[1.         1.         0.99938499]\n",
      " [1.         1.         0.99938499]\n",
      " [0.99938499 0.99938499 1.        ]]\n"
     ]
    }
   ],
   "source": [
    "print(np.corrcoef(M1))"
   ]
  },
  {
   "cell_type": "markdown",
   "id": "a3ca89fc",
   "metadata": {},
   "source": [
    "## Exercici 4\n",
    "### Implementa manualment una funció que calculi el coeficient de correlació. Informa-te'n sobre els seus usos i interpretació."
   ]
  },
  {
   "cell_type": "code",
   "execution_count": 134,
   "id": "bf340573",
   "metadata": {},
   "outputs": [
    {
     "name": "stdout",
     "output_type": "stream",
     "text": [
      "[[ 1.         -0.83862787]\n",
      " [-0.83862787  1.        ]]\n"
     ]
    }
   ],
   "source": [
    "print(np.corrcoef(x,y))"
   ]
  },
  {
   "cell_type": "code",
   "execution_count": 140,
   "id": "1ebe18e8",
   "metadata": {},
   "outputs": [
    {
     "data": {
      "text/plain": [
       "-0.8386278693775346"
      ]
     },
     "execution_count": 140,
     "metadata": {},
     "output_type": "execute_result"
    }
   ],
   "source": [
    "x=np.array([8,2,4])\n",
    "y=np.array ([12,42,52])\n",
    "def COEFCOR(x,y):\n",
    "    if (len(x)!=len(y)):\n",
    "        print(\"No tenen la mateixa dimensió\")\n",
    "    else:                        #calculs Numerador\n",
    "        xmd= np.mean(x)     \n",
    "        ymd=np.mean(y)\n",
    "        xi=np.subtract(x,xmd)\n",
    "        yi=np.subtract(y,ymd)\n",
    "        mult_xiyi=np.multiply(xi,yi)\n",
    "        Total_suma=np.sum(mult_xiyi)\n",
    "        Numerador=Total_suma/len(mult_xiyi)\n",
    "        \n",
    "                                #Calculs Denominador\n",
    "        desv_x=np.std(x)\n",
    "        desv_y=np.std(y)\n",
    "        Denominador=np.multiply(desv_x,desv_y)\n",
    "        \n",
    "        r=Numerador/Denominador\n",
    "    return r\n",
    "\n",
    "COEFCOR(x,y)\n",
    "    "
   ]
  },
  {
   "cell_type": "markdown",
   "id": "cba19599",
   "metadata": {},
   "source": [
    "##### La correlació lineal es un metode que permet quantificar la relació lineal existent entre 2 variables. Aconsegueix demostrar la relació entre dues o més variables, mesurant el nivell de dependència duna variable respecte duna altra variable independent.\n",
    "##### Interpretació del valor de l'índex de correlació. Aquest varia en l'interval [-1,1], establint el signe el sentit de la relació, i la interpretació de cada resultat és el següent:\n",
    "#####  Un valor de 0 indica que no hi ha cap associació entre les dues variables. Un valor més gran que 0 indica una associació positiva. És a dir, a mesura que augmenta el valor d‟una variable, també ho fa el valor de l‟altra. Una correlació negativa (inversa) es produeix quan el coeficient de correlació és inferior a 0. Això és una indicació que les dues variables es mouen a la direcció oposada. "
   ]
  },
  {
   "cell_type": "code",
   "execution_count": null,
   "id": "78ec3cf4",
   "metadata": {},
   "outputs": [],
   "source": []
  }
 ],
 "metadata": {
  "kernelspec": {
   "display_name": "Python 3 (ipykernel)",
   "language": "python",
   "name": "python3"
  },
  "language_info": {
   "codemirror_mode": {
    "name": "ipython",
    "version": 3
   },
   "file_extension": ".py",
   "mimetype": "text/x-python",
   "name": "python",
   "nbconvert_exporter": "python",
   "pygments_lexer": "ipython3",
   "version": "3.9.12"
  }
 },
 "nbformat": 4,
 "nbformat_minor": 5
}
