{
 "cells": [
  {
   "cell_type": "markdown",
   "id": "1727653b",
   "metadata": {},
   "source": [
    "# Tasca M3 01\n",
    "## Exercici 1\n",
    "### Crea una funció que donat un Array d’una dimensió, et faci un resum estadístic bàsic de les dades. Si detecta que l’array té més d’una dimensió, ha de mostrar un missatge d’error."
   ]
  },
  {
   "cell_type": "code",
   "execution_count": 143,
   "id": "e31fd5f7",
   "metadata": {},
   "outputs": [
    {
     "name": "stdout",
     "output_type": "stream",
     "text": [
      "number of dimensions : 1                0\n",
      "count   8.000000\n",
      "mean    9.000000\n",
      "std     4.898979\n",
      "min     2.000000\n",
      "25%     5.500000\n",
      "50%     9.000000\n",
      "75%    12.500000\n",
      "max    16.000000\n"
     ]
    }
   ],
   "source": [
    "import numpy as np\n",
    "import pandas as pd\n",
    "arr = np.array([2,4,6,8,10,12,14,16])\n",
    "def funcio_dades(arr):\n",
    "    df= pd.DataFrame(arr)\n",
    "    print('number of dimensions :', arr.ndim, df.describe())\n",
    "    if arr.ndim!=1:\n",
    "        print (\"ERROR\")\n",
    "funcio_dades(arr)"
   ]
  },
  {
   "cell_type": "markdown",
   "id": "5b679b41",
   "metadata": {},
   "source": [
    "## Exercici 2\n",
    "### Crea una funció que et generi un quadrat NxN de nombres aleatoris entre el 0 i el 100."
   ]
  },
  {
   "cell_type": "code",
   "execution_count": 63,
   "id": "18d4fa14",
   "metadata": {},
   "outputs": [
    {
     "name": "stdout",
     "output_type": "stream",
     "text": [
      "[[34, 98, 9, 57, 74], [78, 98, 7, 46, 56], [72, 57, 67, 3, 20], [29, 28, 38, 2, 10], [6, 45, 50, 44, 80]]\n"
     ]
    }
   ],
   "source": [
    "from random import randint\n",
    "def plenar_matriu(n):\n",
    "    matriu =[]\n",
    "    for i in range(n):\n",
    "        fila=[]\n",
    "        for r in range(n):\n",
    "            fila.append(randint(0,100))\n",
    "        matriu.append(fila)\n",
    "    return matriu    \n",
    "resultat= plenar_matriu(5)  \n",
    "print(resultat)"
   ]
  },
  {
   "cell_type": "markdown",
   "id": "1de04909",
   "metadata": {},
   "source": [
    "## Exercici 3\n",
    "### Crea una funció que donada una taula de dues dimensions (NxM), et calculi els totals per fila i els totals per columna."
   ]
  },
  {
   "cell_type": "code",
   "execution_count": 144,
   "id": "cd6fcc6a",
   "metadata": {},
   "outputs": [
    {
     "name": "stdout",
     "output_type": "stream",
     "text": [
      "[[ 4  6  8 10 12]\n",
      " [ 3  5  7  9 11]\n",
      " [10 20 33 44 55]]\n",
      "Total columnes [17 31 48 63 78]\n",
      "Total files [ 40  35 162]\n"
     ]
    }
   ],
   "source": [
    "M1 =np.array([[4,6,8,10,12], [3,5,7,9,11], [10,20,33,44,55]])\n",
    "print(M1)\n",
    "def Sumes(M1):\n",
    "    df= pd.DataFrame(M1)\n",
    "print(\"Total columnes\",M1.sum(axis=0))\n",
    "print(\"Total files\",M1.sum(axis=1))\n",
    "Sumes(M1)"
   ]
  },
  {
   "cell_type": "markdown",
   "id": "a3ca89fc",
   "metadata": {},
   "source": [
    "## Exercici 4\n",
    "### Implementa manualment una funció que calculi el coeficient de correlació. Informa-te'n sobre els seus usos i interpretació."
   ]
  },
  {
   "cell_type": "code",
   "execution_count": 146,
   "id": "8e0b16b1",
   "metadata": {
    "scrolled": true
   },
   "outputs": [
    {
     "name": "stdout",
     "output_type": "stream",
     "text": [
      "[[1.         1.         0.99938499]\n",
      " [1.         1.         0.99938499]\n",
      " [0.99938499 0.99938499 1.        ]]\n"
     ]
    }
   ],
   "source": [
    "def correlacio(M1):\n",
    "    df= pd.DataFrame(M1)\n",
    "print(np.corrcoef(M1))\n",
    "correlacio(M1)"
   ]
  },
  {
   "cell_type": "markdown",
   "id": "cba19599",
   "metadata": {},
   "source": [
    "##### La correlació lineal es un metode que permet quantificar la relació lineal existent entre 2 variables. Aconsegueix demostrar la relació entre dues o més variables, mesurant el nivell de dependència duna variable respecte duna altra variable independent.\n",
    "##### Interpretació del valor de l'índex de correlació. Aquest varia en l'interval [-1,1], establint el signe el sentit de la relació, i la interpretació de cada resultat és el següent:\n",
    "#####  Un valor de 0 indica que no hi ha cap associació entre les dues variables. Un valor més gran que 0 indica una associació positiva. És a dir, a mesura que augmenta el valor d‟una variable, també ho fa el valor de l‟altra. Una correlació negativa (inversa) es produeix quan el coeficient de correlació és inferior a 0. Això és una indicació que les dues variables es mouen a la direcció oposada. "
   ]
  },
  {
   "cell_type": "code",
   "execution_count": null,
   "id": "78ec3cf4",
   "metadata": {},
   "outputs": [],
   "source": []
  }
 ],
 "metadata": {
  "kernelspec": {
   "display_name": "Python 3 (ipykernel)",
   "language": "python",
   "name": "python3"
  },
  "language_info": {
   "codemirror_mode": {
    "name": "ipython",
    "version": 3
   },
   "file_extension": ".py",
   "mimetype": "text/x-python",
   "name": "python",
   "nbconvert_exporter": "python",
   "pygments_lexer": "ipython3",
   "version": "3.9.12"
  }
 },
 "nbformat": 4,
 "nbformat_minor": 5
}
